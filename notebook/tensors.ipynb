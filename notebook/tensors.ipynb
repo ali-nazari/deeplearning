{
 "cells": [
  {
   "cell_type": "code",
   "execution_count": 1,
   "metadata": {},
   "outputs": [],
   "source": [
    "import numpy as np"
   ]
  },
  {
   "cell_type": "markdown",
   "metadata": {},
   "source": [
    "**Tensor**\n",
    "In the general case, an array of numbers arranged on a regular grid with a variable number of axes is known as a tensor."
   ]
  },
  {
   "cell_type": "code",
   "execution_count": 37,
   "metadata": {},
   "outputs": [
    {
     "name": "stdout",
     "output_type": "stream",
     "text": [
      "(3, 3, 3)\n",
      "[[[ 1  2  3]\n",
      "  [ 4  5  6]\n",
      "  [ 7  8  9]]\n",
      "\n",
      " [[11 12 13]\n",
      "  [14 15 16]\n",
      "  [17 18 19]]\n",
      "\n",
      " [[21 22 23]\n",
      "  [24 25 26]\n",
      "  [27 28 29]]]\n"
     ]
    }
   ],
   "source": [
    "# create tensor\n",
    "T = np.array([\n",
    "  [[1,2,3],    [4,5,6],    [7,8,9]],\n",
    "  [[11,12,13], [14,15,16], [17,18,19]],\n",
    "  [[21,22,23], [24,25,26], [27,28,29]],\n",
    "  ])\n",
    "print(T.shape)\n",
    "print(T)"
   ]
  },
  {
   "cell_type": "markdown",
   "metadata": {},
   "source": [
    "For this 3D tensor, axis 0 specifies the level, axis 1 specifies the column, and axis 2 specifies the row."
   ]
  },
  {
   "cell_type": "code",
   "execution_count": 23,
   "metadata": {},
   "outputs": [],
   "source": [
    "a = np.array([\n",
    "               [[4,1,2],[3,5,2],[1,6,7]],\n",
    "               [[2,1,0],[5,4,3],[6,8,9]],\n",
    "               [[1,2,3],[2,3,4],[5,5,5]]\n",
    "             ])\n",
    "b = np.array([[[1,1,1],[2,2,2],[3,3,3]],\n",
    "               [[4,4,4],[5,5,5],[6,6,6]],\n",
    "               [[7,7,7],[8,8,8],[9,9,9]]\n",
    "             ])\n"
   ]
  },
  {
   "cell_type": "code",
   "execution_count": 36,
   "metadata": {},
   "outputs": [
    {
     "data": {
      "text/plain": [
       "(3, array([[[4, 1, 2],\n",
       "         [3, 5, 2],\n",
       "         [1, 6, 7]],\n",
       " \n",
       "        [[2, 1, 0],\n",
       "         [5, 4, 3],\n",
       "         [6, 8, 9]],\n",
       " \n",
       "        [[1, 2, 3],\n",
       "         [2, 3, 4],\n",
       "         [5, 5, 5]]]))"
      ]
     },
     "execution_count": 36,
     "metadata": {},
     "output_type": "execute_result"
    }
   ],
   "source": [
    "a.ndim , a"
   ]
  },
  {
   "cell_type": "code",
   "execution_count": 24,
   "metadata": {},
   "outputs": [
    {
     "name": "stdout",
     "output_type": "stream",
     "text": [
      "[[[ 5  2  3]\n",
      "  [ 5  7  4]\n",
      "  [ 4  9 10]]\n",
      "\n",
      " [[ 6  5  4]\n",
      "  [10  9  8]\n",
      "  [12 14 15]]\n",
      "\n",
      " [[ 8  9 10]\n",
      "  [10 11 12]\n",
      "  [14 14 14]]]\n"
     ]
    }
   ],
   "source": [
    "print(a+b)"
   ]
  },
  {
   "cell_type": "code",
   "execution_count": 38,
   "metadata": {},
   "outputs": [
    {
     "name": "stdout",
     "output_type": "stream",
     "text": [
      "[[[ 3  0  1]\n",
      "  [ 1  3  0]\n",
      "  [-2  3  4]]\n",
      "\n",
      " [[-2 -3 -4]\n",
      "  [ 0 -1 -2]\n",
      "  [ 0  2  3]]\n",
      "\n",
      " [[-6 -5 -4]\n",
      "  [-6 -5 -4]\n",
      "  [-4 -4 -4]]]\n"
     ]
    }
   ],
   "source": [
    "print(a-b)"
   ]
  },
  {
   "cell_type": "markdown",
   "metadata": {},
   "source": [
    "## Tensor Hadamard Product\n",
    "The element-wise multiplication of one tensor from another tensor with the same dimensions "
   ]
  },
  {
   "cell_type": "code",
   "execution_count": 39,
   "metadata": {},
   "outputs": [
    {
     "name": "stdout",
     "output_type": "stream",
     "text": [
      "[[[  1   4   9]\n",
      "  [ 16  25  36]\n",
      "  [ 49  64  81]]\n",
      "\n",
      " [[121 144 169]\n",
      "  [196 225 256]\n",
      "  [289 324 361]]\n",
      "\n",
      " [[441 484 529]\n",
      "  [576 625 676]\n",
      "  [729 784 841]]]\n"
     ]
    }
   ],
   "source": [
    "# tensor Hadamard product\n",
    "A = np.array([\n",
    "  [[1,2,3],    [4,5,6],    [7,8,9]],\n",
    "  [[11,12,13], [14,15,16], [17,18,19]],\n",
    "  [[21,22,23], [24,25,26], [27,28,29]],\n",
    "  ])\n",
    "B = np.array([\n",
    "  [[1,2,3],    [4,5,6],    [7,8,9]],\n",
    "  [[11,12,13], [14,15,16], [17,18,19]],\n",
    "  [[21,22,23], [24,25,26], [27,28,29]],\n",
    "  ])\n",
    "C = A * B\n",
    "print(C)\n"
   ]
  },
  {
   "cell_type": "markdown",
   "metadata": {},
   "source": [
    "## Tensor Division"
   ]
  },
  {
   "cell_type": "code",
   "execution_count": 40,
   "metadata": {},
   "outputs": [
    {
     "name": "stdout",
     "output_type": "stream",
     "text": [
      "[[[1. 1. 1.]\n",
      "  [1. 1. 1.]\n",
      "  [1. 1. 1.]]\n",
      "\n",
      " [[1. 1. 1.]\n",
      "  [1. 1. 1.]\n",
      "  [1. 1. 1.]]\n",
      "\n",
      " [[1. 1. 1.]\n",
      "  [1. 1. 1.]\n",
      "  [1. 1. 1.]]]\n"
     ]
    }
   ],
   "source": [
    "D = A / B\n",
    "print(D)"
   ]
  },
  {
   "cell_type": "markdown",
   "metadata": {},
   "source": [
    "## Tensor Product\n",
    "The tensor product operator is often denoted as a circle with a small x in the middle. We will denote it here as “(x)”.\n",
    "\n",
    "Given a tensor A with q dimensions and tensor B with r dimensions, the product of these tensors will be a new tensor with the order of q + r or, said another way, q + r dimensions."
   ]
  },
  {
   "cell_type": "markdown",
   "metadata": {},
   "source": [
    "a = (a1, a2)\n",
    "\n",
    "b = (b1, b2)\n",
    "\n",
    "c = a (x) b\n",
    "\n",
    "c = (   a1 * [b1, b2]   \n",
    "        a2 * [b1, b2])"
   ]
  },
  {
   "cell_type": "markdown",
   "metadata": {},
   "source": [
    "c= (  a1 * b1, a1 * b2\n",
    "      a2 * b1, a2 * b2)"
   ]
  },
  {
   "cell_type": "code",
   "execution_count": 43,
   "metadata": {},
   "outputs": [
    {
     "name": "stdout",
     "output_type": "stream",
     "text": [
      "[[3 4]\n",
      " [6 8]]\n"
     ]
    }
   ],
   "source": [
    "# tensor product\n",
    "\n",
    "A = np.array([1,2])\n",
    "B = np.array([3,4])\n",
    "C = np.tensordot(A, B, axes=0)\n",
    "\n",
    "print(C)"
   ]
  },
  {
   "cell_type": "markdown",
   "metadata": {},
   "source": [
    "**tensor product for matrices**\n",
    "\n",
    "     a11, a12\n",
    "A = (a21, a22)\n",
    "\n",
    "     b11, b12\n",
    "B = (b21, b22)\n",
    "\n",
    "C = A (x) B\n",
    "\n",
    "            b11, b12          b11, b12\n",
    "     a11 * (b21, b22), a12 * (b21, b22)\n",
    "C = [       b11, b12          b11, b12 ]\n",
    "     a21 * (b21, b22), a22 * (b21, b22)"
   ]
  },
  {
   "cell_type": "code",
   "execution_count": 48,
   "metadata": {},
   "outputs": [
    {
     "name": "stdout",
     "output_type": "stream",
     "text": [
      "[[[[1 1]\n",
      "   [1 1]]\n",
      "\n",
      "  [[2 2]\n",
      "   [2 2]]]\n",
      "\n",
      "\n",
      " [[[3 3]\n",
      "   [3 3]]\n",
      "\n",
      "  [[4 4]\n",
      "   [4 4]]]]\n"
     ]
    }
   ],
   "source": [
    "A = np.array([[1,2],[3,4]])\n",
    "B = np.array([[1,1],[1,1]])\n",
    "C = np.tensordot(A, B, axes=0)\n",
    "print(C)"
   ]
  },
  {
   "cell_type": "code",
   "execution_count": null,
   "metadata": {},
   "outputs": [],
   "source": []
  }
 ],
 "metadata": {
  "kernelspec": {
   "display_name": "tf2",
   "language": "python",
   "name": "tf2"
  },
  "language_info": {
   "codemirror_mode": {
    "name": "ipython",
    "version": 3
   },
   "file_extension": ".py",
   "mimetype": "text/x-python",
   "name": "python",
   "nbconvert_exporter": "python",
   "pygments_lexer": "ipython3",
   "version": "3.7.4"
  }
 },
 "nbformat": 4,
 "nbformat_minor": 4
}
