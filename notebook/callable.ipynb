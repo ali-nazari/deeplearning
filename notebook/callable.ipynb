{
 "cells": [
  {
   "cell_type": "code",
   "execution_count": 5,
   "metadata": {},
   "outputs": [],
   "source": [
    "class Foo(object):\n",
    "    def __call__(self, x):\n",
    "        return 2*x + 2"
   ]
  },
  {
   "cell_type": "code",
   "execution_count": 6,
   "metadata": {},
   "outputs": [
    {
     "name": "stdout",
     "output_type": "stream",
     "text": [
      "22\n"
     ]
    }
   ],
   "source": [
    "foo_call = Foo() # instantiate class Foo\n",
    "result = foo_call(10) # call callable method\n",
    "print(result) # print the result and the result is 22"
   ]
  },
  {
   "cell_type": "code",
   "execution_count": 3,
   "metadata": {},
   "outputs": [],
   "source": [
    "import math\n",
    "class Bar(object):\n",
    "    def __init__(self, thresh):\n",
    "        self.thresh = thresh\n",
    "    \n",
    "    def __call__(self, x):\n",
    "        c = 1/(1+math.exp(-x))\n",
    "        if c > self.thresh:\n",
    "            return 1\n",
    "        else:\n",
    "            return 0"
   ]
  },
  {
   "cell_type": "code",
   "execution_count": 4,
   "metadata": {},
   "outputs": [
    {
     "name": "stdout",
     "output_type": "stream",
     "text": [
      "1\n"
     ]
    }
   ],
   "source": [
    "bar = Bar(0.5) # instantiate with thresh value of 0.5\n",
    "result = bar(0.2) # execute __call__ method\n",
    "print(result) # print the result "
   ]
  },
  {
   "cell_type": "code",
   "execution_count": 7,
   "metadata": {},
   "outputs": [],
   "source": [
    "class Layer():\n",
    "    def __init__(self,x):\n",
    "        print('Inside Layer -> __init__ :',x)\n",
    "\n",
    "    def __call__(self, y):\n",
    "        print('Inside Layer -> __call__ :',y)\n",
    "        self.call(y)\n",
    "\n",
    "    def call(self,z):\n",
    "        print('Inside Layer -> call :',z)\n",
    "\n",
    "class MyLayer(Layer):\n",
    "    def __init__(self,k):\n",
    "        print('Inside MyLayer -> __init__ :',k)\n",
    "        super(MyLayer, self).__init__(k)\n",
    "\n",
    "    def call(self, m):\n",
    "        print('Inside MyLayer -> call :',m)    \n",
    "\n"
   ]
  },
  {
   "cell_type": "code",
   "execution_count": 8,
   "metadata": {},
   "outputs": [
    {
     "name": "stdout",
     "output_type": "stream",
     "text": [
      "Inside MyLayer -> __init__ : 3\n",
      "Inside Layer -> __init__ : 3\n"
     ]
    }
   ],
   "source": [
    "\n",
    "obj = MyLayer(3)\n"
   ]
  },
  {
   "cell_type": "code",
   "execution_count": 9,
   "metadata": {},
   "outputs": [
    {
     "name": "stdout",
     "output_type": "stream",
     "text": [
      "Inside Layer -> __call__ : 4\n",
      "Inside MyLayer -> call : 4\n"
     ]
    }
   ],
   "source": [
    "obj(4)"
   ]
  },
  {
   "cell_type": "code",
   "execution_count": null,
   "metadata": {},
   "outputs": [],
   "source": []
  }
 ],
 "metadata": {
  "kernelspec": {
   "display_name": "tf2",
   "language": "python",
   "name": "tf2"
  },
  "language_info": {
   "codemirror_mode": {
    "name": "ipython",
    "version": 3
   },
   "file_extension": ".py",
   "mimetype": "text/x-python",
   "name": "python",
   "nbconvert_exporter": "python",
   "pygments_lexer": "ipython3",
   "version": "3.7.4"
  }
 },
 "nbformat": 4,
 "nbformat_minor": 4
}
